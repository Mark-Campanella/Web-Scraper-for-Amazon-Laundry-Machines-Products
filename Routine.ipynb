{
 "cells": [
  {
   "cell_type": "code",
   "execution_count": null,
   "metadata": {},
   "outputs": [],
   "source": [
    "import pandas as pd"
   ]
  },
  {
   "cell_type": "code",
   "execution_count": null,
   "metadata": {},
   "outputs": [],
   "source": [
    "# Criar DataFrame\n",
    "df = pd.read_csv('product_data.csv')\n",
    "df.shape"
   ]
  },
  {
   "cell_type": "code",
   "execution_count": null,
   "metadata": {},
   "outputs": [],
   "source": [
    "df = df.loc[df['Tipo de Cabelo'].isna() | (df['Tipo de Cabelo'] == '')]"
   ]
  },
  {
   "cell_type": "code",
   "execution_count": null,
   "metadata": {},
   "outputs": [],
   "source": [
    "# Especificar colunas a serem ignoradas\n",
    "colunas_ignoradas = ['Link', 'Price', 'Nome da marca', 'Informações do modelo', 'Número da Peça','Fabricante','Avaliações de clientes','Review Count','Image Link' ]\n",
    "\n",
    "# Função para aplicar a fórmula GOOGLETRANSLATE apenas a valores não numéricos\n",
    "def apply_googletranslate(x):\n",
    "    if pd.isna(x):\n",
    "        return ''  # Aplicar fórmula a valores NaN\n",
    "    if isinstance(x, (int, float)):\n",
    "        return x  # Manter valores numéricos inalterados\n",
    "    return f'=GOOGLETRANSLATE(\"{x}\", \"auto\")'\n",
    "\n",
    "# Aplicar a função a todos os elementos do DataFrame, exceto as colunas ignoradas\n",
    "df_translated = df.copy()\n",
    "\n",
    "for col in df.columns:\n",
    "    if col not in colunas_ignoradas:\n",
    "        df_translated[col] = df[col].apply(apply_googletranslate)\n",
    "\n",
    "# Aplicar a fórmula aos nomes das colunas, exceto as colunas ignoradas\n",
    "translated_columns = [apply_googletranslate(col) if col not in colunas_ignoradas else col for col in df.columns]\n",
    "df_translated.columns = translated_columns\n",
    "\n",
    "# Exibir o DataFrame modificado\n",
    "print(\"DataFrame translated:\")\n",
    "print(df_translated)\n",
    "\n",
    "# Exportar o DataFrame para um arquivo CSV\n",
    "df_translated.to_csv('final_product_data.csv', index=False, encoding='utf-8')\n",
    "\n"
   ]
  }
 ],
 "metadata": {
  "kernelspec": {
   "display_name": "Python 3",
   "language": "python",
   "name": "python3"
  },
  "language_info": {
   "name": "python",
   "version": "3.12.3"
  }
 },
 "nbformat": 4,
 "nbformat_minor": 2
}

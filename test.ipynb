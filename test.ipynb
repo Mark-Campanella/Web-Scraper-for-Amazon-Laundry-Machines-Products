{
 "cells": [
  {
   "cell_type": "code",
   "execution_count": 1,
   "metadata": {},
   "outputs": [],
   "source": [
    "import time\n",
    "from selenium import webdriver\n",
    "from selenium.webdriver.common.by import By\n",
    "from selenium.webdriver.chrome.options import Options\n",
    "from selenium.webdriver.support.ui import WebDriverWait\n",
    "from selenium.webdriver.support import expected_conditions as EC\n",
    "from selenium_stealth import stealth\n",
    "import pandas as pd"
   ]
  },
  {
   "cell_type": "code",
   "execution_count": 2,
   "metadata": {},
   "outputs": [],
   "source": [
    "chrome_options = Options()\n",
    "chrome_options.add_argument(\"--start-maximized\")\n",
    "chrome_options.add_argument(\"--disable-blink-features=AutomationControlled\")\n",
    "chrome_options.add_argument(\"--disable-geolocation\")\n",
    "chrome_options.add_argument(\"--disable-notifications\")\n",
    "chrome_options.add_argument(\"--disable-popup-blocking\")\n",
    "chrome_options.add_argument(\"--incognito\")\n",
    "chrome_options.add_argument(\"--disable-extensions\")\n",
    "languages = [\"pt-BR\", \"pt\"] #In case of going for the USA/UK or anywhere, CHANGE THIS\n",
    "driver = webdriver.Chrome(options=chrome_options)\n",
    "stealth(driver,\n",
    "        languages=languages,\n",
    "        vendor=\"Google Inc.\",\n",
    "        platform=\"Win32\",\n",
    "        webgl_vendor=\"Intel Inc.\",\n",
    "        renderer=\"Intel Iris OpenGL Engine\",\n",
    "        fix_hairline=True)"
   ]
  },
  {
   "cell_type": "code",
   "execution_count": null,
   "metadata": {},
   "outputs": [],
   "source": [
    "driver.get('https://www.amazon.com.br/M%C3%A1quina-Intelig%C3%AAncia-Artificial-LG-FV5013WC4/dp/B09DLDC5PF/ref=sr_1_2_sspa?__mk_pt_BR=%C3%85M%C3%85%C5%BD%C3%95%C3%91&crid=1O1IPFCEIKJN6&dib=eyJ2IjoiMSJ9.en31i2tO4TiHZJBUlBnGfy8LXLm2gLxuqov1jyg3Br7O9cIRyQILGm8sAmTp5_7efNwb0OeZBJHFq8K3NhmpNlvxMkpF5ouMWTzgLo9ThisU34PuQjiF15flqU0Nm94sgIiX4m6rkKm8RAE5P3V9vYyOOb1kj3sHhbXt9rv3nQfUtt-S_PZu_tDKunXjhO1EYQlUusZYx8a8jhmJVlpmkXWnPBllAhFo-qEV-6xenHXzHl-swxj4sX27k8iukCkNDhWCGxOJ8dcwd81iOPIeQACHIP0wGBochsPynF-t7Dc.MgCXQvmbb1okgFk32t7ryXGid-3esq1LlBX_0_1RJuQ&dib_tag=se&keywords=lavadora+e+secadora+de+roupas&qid=1716813507&sprefix=lavadora+e+secadora+de+roupas%2Caps%2C171&sr=8-2-spons&ufe=app_do%3Aamzn1.fos.25548f35-0de7-44b3-b28e-0f56f3f96147&sp_csd=d2lkZ2V0TmFtZT1zcF9hdGY&psc=1') #Go to the website\n",
    "driver.implicitly_wait(20)#Wait for it to load\n"
   ]
  }
 ],
 "metadata": {
  "kernelspec": {
   "display_name": "Python 3",
   "language": "python",
   "name": "python3"
  },
  "language_info": {
   "codemirror_mode": {
    "name": "ipython",
    "version": 3
   },
   "file_extension": ".py",
   "mimetype": "text/x-python",
   "name": "python",
   "nbconvert_exporter": "python",
   "pygments_lexer": "ipython3",
   "version": "3.12.3"
  }
 },
 "nbformat": 4,
 "nbformat_minor": 2
}
